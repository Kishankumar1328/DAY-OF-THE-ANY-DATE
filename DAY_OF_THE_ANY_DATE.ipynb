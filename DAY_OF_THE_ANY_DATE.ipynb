{
  "nbformat": 4,
  "nbformat_minor": 0,
  "metadata": {
    "colab": {
      "provenance": [],
      "authorship_tag": "ABX9TyPG9I8bfBpsTdCrq8ta58x0",
      "include_colab_link": true
    },
    "kernelspec": {
      "name": "python3",
      "display_name": "Python 3"
    },
    "language_info": {
      "name": "python"
    }
  },
  "cells": [
    {
      "cell_type": "markdown",
      "metadata": {
        "id": "view-in-github",
        "colab_type": "text"
      },
      "source": [
        "<a href=\"https://colab.research.google.com/github/Kishankumar1328/DAY-OF-THE-ANY-DATE/blob/main/DAY_OF_THE_ANY_DATE.ipynb\" target=\"_parent\"><img src=\"https://colab.research.google.com/assets/colab-badge.svg\" alt=\"Open In Colab\"/></a>"
      ]
    },
    {
      "cell_type": "code",
      "execution_count": 20,
      "metadata": {
        "colab": {
          "base_uri": "https://localhost:8080/"
        },
        "id": "J05Kzd0ActuP",
        "outputId": "c5bb8d65-762c-4be9-c5b8-68e9f8d9ef33"
      },
      "outputs": [
        {
          "name": "stdout",
          "output_type": "stream",
          "text": [
            "Enter the day:13\n",
            "Enter the month:1\n",
            "Enter the year:05\n"
          ]
        }
      ],
      "source": [
        "day=int(input(\"Enter the day:\"))\n",
        "month=int(input(\"Enter the month:\"))\n",
        "year=int(input(\"Enter the year:\"))"
      ]
    },
    {
      "cell_type": "code",
      "source": [
        "if month<3:\n",
        "  month+=12\n",
        "  year-=1"
      ],
      "metadata": {
        "id": "sqaXkTf7cxAE"
      },
      "execution_count": 21,
      "outputs": []
    },
    {
      "cell_type": "code",
      "source": [
        "century_code=6"
      ],
      "metadata": {
        "id": "IaGr5MUYeXEZ"
      },
      "execution_count": 22,
      "outputs": []
    },
    {
      "cell_type": "code",
      "source": [
        "day_of_any_date=(day+((13*(month+1))//5)+year+(year//4)+(century_code*(year//100))+(century_code*(year//400)))%7"
      ],
      "metadata": {
        "id": "UaowJDzzedNG"
      },
      "execution_count": 23,
      "outputs": []
    },
    {
      "cell_type": "code",
      "source": [
        "days_of_week=[\"Saturday\",\"Sunday\",\"Monday\",\"Tuesday\",\"Wednesday\",\"Thursday\",\"Friday\"]"
      ],
      "metadata": {
        "id": "wtKMP7JWflES"
      },
      "execution_count": 24,
      "outputs": []
    },
    {
      "cell_type": "code",
      "source": [
        "day_name=days_of_week[day_of_any_date]"
      ],
      "metadata": {
        "id": "wT7hhVtzf6Xs"
      },
      "execution_count": 25,
      "outputs": []
    },
    {
      "cell_type": "code",
      "source": [
        "print(f'The day of the week is:{day_name}')"
      ],
      "metadata": {
        "colab": {
          "base_uri": "https://localhost:8080/"
        },
        "id": "E7TAhakxgLx2",
        "outputId": "64bbce79-ba60-49d6-8611-4a2ea6bff578"
      },
      "execution_count": 27,
      "outputs": [
        {
          "output_type": "stream",
          "name": "stdout",
          "text": [
            "The day of the week is:Thursday\n"
          ]
        }
      ]
    },
    {
      "cell_type": "code",
      "source": [
        "for i in range(4):\n",
        "  day=int(input(\"Enter the day:\"))\n",
        "  month=int(input(\"Enter the month:\"))\n",
        "  year=int(input(\"Enter the year:\"))\n",
        "  if month<3:\n",
        "    month+=12\n",
        "    year-=1\n",
        "  century_code=6\n",
        "  day_of_any_date=(day+((13*(month+1))//5)+year+(year//4)+(century_code*(year//100))+(century_code*(year//400)))%7\n",
        "  days_of_week=[\"Saturday\",\"Sunday\",\"Monday\",\"Tuesday\",\"Wednesday\",\"Thursday\",\"Friday\"]\n",
        "  day_name=days_of_week[day_of_any_date]\n",
        "  print(f'The day of the week is:{day_name}')"
      ],
      "metadata": {
        "colab": {
          "base_uri": "https://localhost:8080/"
        },
        "id": "KDUaD72UgL7J",
        "outputId": "9ba842af-c189-4c90-f735-d088e64af96e"
      },
      "execution_count": 38,
      "outputs": [
        {
          "output_type": "stream",
          "name": "stdout",
          "text": [
            "Enter the day:13\n",
            "Enter the month:1\n",
            "Enter the year:5\n",
            "The day of the week is:Thursday\n",
            "Enter the day:29\n",
            "Enter the month:5\n",
            "Enter the year:5\n",
            "The day of the week is:Sunday\n",
            "Enter the day:28\n",
            "Enter the month:8\n",
            "Enter the year:6\n",
            "The day of the week is:Monday\n",
            "Enter the day:25\n",
            "Enter the month:2\n",
            "Enter the year:3\n",
            "The day of the week is:Tuesday\n"
          ]
        }
      ]
    }
  ]
}